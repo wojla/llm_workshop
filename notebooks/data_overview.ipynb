{
 "cells": [
  {
   "cell_type": "code",
   "execution_count": null,
   "id": "240f2bdc-4fc5-40f8-aebe-4646c0feef94",
   "metadata": {},
   "outputs": [],
   "source": [
    "import pandas as pd\n",
    "import numpy as np\n",
    "import matplotlib.pyplot as plt\n",
    "import seaborn as sns"
   ]
  },
  {
   "cell_type": "code",
   "execution_count": null,
   "id": "c389c124-e1e3-472f-9d8a-a0a370359417",
   "metadata": {},
   "outputs": [],
   "source": [
    "df = pd.read_csv(\"../data/Heart_disease_cleveland_new.csv\")"
   ]
  },
  {
   "cell_type": "code",
   "execution_count": null,
   "id": "eb07f3f9-5dfb-435d-ba5d-cdb0456fb9a6",
   "metadata": {},
   "outputs": [],
   "source": [
    "df"
   ]
  },
  {
   "cell_type": "markdown",
   "id": "d69bb29f-4aa5-4623-800a-1132d4d6b264",
   "metadata": {},
   "source": [
    "1. **Age**: Patients Age in years \n",
    "2. **Sex**: Gender (Male : 1; Female : 0) \n",
    "3. **cp**: Type of chest pain experienced by patient. This term categorized into 4 category.\n",
    "    - 0 typical angina,\n",
    "    - 1 atypical angina,\n",
    "    - 2 non-anginal pain,\n",
    "    - 3 asymptomatic \n",
    "4. **trestbps**: patient's level of blood pressure at resting mode in mm/HG \n",
    "5. **chol**: Serum cholesterol in mg/dl \n",
    "6. **fbs**: Blood sugar levels on fasting > 120 mg/dl represents as 1 in case of true and 0 as false \n",
    "7. **restecg**: Result of electrocardiogram while at rest are represented in 3 distinct values\n",
    "   - 0 : Normal\n",
    "   - 1: having ST-T wave abnormality (T wave inversions and/or ST elevation or depression of > 0.05 mV)\n",
    "   - 2: showing probable or definite left ventricular hypertrophyby Estes' criteria \n",
    "8. **thalach**: Maximum heart rate achieved \n",
    "9. **exang**: Angina induced by exercise 0 depicting NO 1 depicting Yes\n",
    "10. **oldpeak**: Exercise induced ST-depression in relative with the state of rest \n",
    "11. **slope**: ST segment measured in terms of slope during peak exercise 0: up sloping; 1: flat; 2: down sloping\n",
    "12. **ca**: The number of major vessels (0–3)\n",
    "13. **thal**: A blood disorder called thalassemia\n",
    "    - 0: NULL\n",
    "    - 1: normal blood flow\n",
    "    - 2: fixed defect (no blood flow in some part of the heart)\n",
    "    - 3: reversible defect (a blood flow is observed but it is not normal\n",
    "14. ***target***: It is the target variable which we have to predict 1 means patient is suffering from heart disease and 0 means patient is normal."
   ]
  },
  {
   "cell_type": "code",
   "execution_count": null,
   "id": "c6d5f91c-2a5d-4ed0-867d-02297ed9839c",
   "metadata": {},
   "outputs": [],
   "source": [
    "df.shape"
   ]
  },
  {
   "cell_type": "code",
   "execution_count": null,
   "id": "99958830-45d0-4e97-9867-f6128a5d26a5",
   "metadata": {},
   "outputs": [],
   "source": [
    "df.info()"
   ]
  },
  {
   "cell_type": "code",
   "execution_count": null,
   "id": "1d1230c9-3cd1-4db2-a29d-89afd7615d05",
   "metadata": {},
   "outputs": [],
   "source": [
    "missing_vals = df.isnull().sum()\n",
    "missing_vals"
   ]
  },
  {
   "cell_type": "code",
   "execution_count": null,
   "id": "64b39748-5885-4c70-96cb-1508c497b909",
   "metadata": {},
   "outputs": [],
   "source": [
    "missing_pct = np.around((missing_vals / len(df) * 100), 2)\n",
    "missing_pct"
   ]
  },
  {
   "cell_type": "code",
   "execution_count": null,
   "id": "df0db264-8d9b-4634-8dc8-42948d17e70e",
   "metadata": {},
   "outputs": [],
   "source": [
    "plt.figure(figsize=(10, 6))\n",
    "sns.heatmap(df.isnull(), cbar=False, cmap='viridis')\n",
    "plt.title('Missing Values Heatmap')\n",
    "plt.show()"
   ]
  },
  {
   "cell_type": "code",
   "execution_count": null,
   "id": "51fc8fd3-4a08-43ed-99b2-3981f9711a85",
   "metadata": {},
   "outputs": [],
   "source": [
    "duplicate_count = df.duplicated().sum()\n",
    "print(f\"\\nNumber of duplicate records: {duplicate_count}\")"
   ]
  },
  {
   "cell_type": "code",
   "execution_count": null,
   "id": "cab666ff-8c40-4895-be6c-54d0ada2ee77",
   "metadata": {},
   "outputs": [],
   "source": [
    "numerical_cols = ['age', 'trestbps', 'chol', 'thalach', 'oldpeak']\n",
    "categorical_cols = ['sex', 'cp', 'fbs', 'restecg', 'exang', 'slope', 'ca']"
   ]
  },
  {
   "cell_type": "code",
   "execution_count": null,
   "id": "b6c6d355-a247-47df-b79b-4388c740d864",
   "metadata": {},
   "outputs": [],
   "source": [
    "plt.figure(figsize=(15, 10))\n",
    "for i, col in enumerate(numerical_cols):\n",
    "    plt.subplot(2, 3, i + 1)\n",
    "    sns.histplot(df[col], kde=True, bins=30, color='mediumseagreen')\n",
    "    plt.title(f'Distribution of {col}')\n",
    "plt.tight_layout()\n",
    "plt.show()"
   ]
  },
  {
   "cell_type": "code",
   "execution_count": null,
   "id": "7dac4613-1791-4d6b-ae6b-d3f89550c54f",
   "metadata": {},
   "outputs": [],
   "source": [
    "plt.figure(figsize=(15, 10))\n",
    "for i, col in enumerate(numerical_cols):\n",
    "    plt.subplot(2, 3, i + 1)\n",
    "    sns.violinplot(x=df[col], color='orchid')\n",
    "    plt.title(f'Violin Plot of {col}')\n",
    "plt.tight_layout()\n",
    "plt.show()"
   ]
  },
  {
   "cell_type": "code",
   "execution_count": null,
   "id": "ac762f42-453a-4ffc-94da-8916023facbc",
   "metadata": {},
   "outputs": [],
   "source": [
    "plt.figure(figsize=(10, 8))\n",
    "sns.heatmap(df.corr(numeric_only=True), annot=True, fmt=\".2f\", cmap='RdBu_r', square=True)\n",
    "plt.title(\"Correlation Matrix of Numerical Features\")\n",
    "plt.show()"
   ]
  },
  {
   "cell_type": "code",
   "execution_count": null,
   "id": "f354f87d-ad74-4479-8990-01dec1d7eaa8",
   "metadata": {},
   "outputs": [],
   "source": [
    "plt.figure(figsize=(15, 10))\n",
    "for i, col in enumerate(numerical_cols):\n",
    "    plt.subplot(3, 3, i + 1)\n",
    "    sns.boxplot(x=df[col])\n",
    "    plt.title(f'Boxplot of {col}')\n",
    "plt.tight_layout()\n",
    "plt.show()"
   ]
  },
  {
   "cell_type": "code",
   "execution_count": null,
   "id": "68516b57-7cb3-4e54-9615-988603693398",
   "metadata": {},
   "outputs": [],
   "source": [
    "df[numerical_cols].skew()"
   ]
  },
  {
   "cell_type": "code",
   "execution_count": null,
   "id": "2fda014c-6870-43af-bc9d-4617265f719c",
   "metadata": {},
   "outputs": [],
   "source": [
    "missing_vals = df.isnull().sum()\n",
    "missing_pct = (missing_vals / len(df)) * 100\n",
    "missing_df = pd.DataFrame({'Missing Values': missing_vals, 'Percentage': missing_pct})\n",
    "print(missing_df[missing_df['Missing Values'] > 0])\n",
    "\n",
    "plt.figure(figsize=(10, 6))\n",
    "sns.heatmap(df.isnull(), cbar=False, cmap='viridis')\n",
    "plt.title('Missing Values Heatmap')\n",
    "plt.show()"
   ]
  }
 ],
 "metadata": {
  "kernelspec": {
   "display_name": "Python 3 (ipykernel)",
   "language": "python",
   "name": "python3"
  },
  "language_info": {
   "codemirror_mode": {
    "name": "ipython",
    "version": 3
   },
   "file_extension": ".py",
   "mimetype": "text/x-python",
   "name": "python",
   "nbconvert_exporter": "python",
   "pygments_lexer": "ipython3",
   "version": "3.12.11"
  }
 },
 "nbformat": 4,
 "nbformat_minor": 5
}
