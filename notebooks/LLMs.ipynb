{
 "cells": [
  {
   "cell_type": "markdown",
   "id": "38eb386d-aaa1-4b89-bbcd-9d3f05b3628f",
   "metadata": {},
   "source": [
    "# LLMs prompts"
   ]
  },
  {
   "cell_type": "markdown",
   "id": "54165eaf-17a8-4c6c-bae5-ec5eac11aa8f",
   "metadata": {},
   "source": [
    "## <span style=\"color: red;\">Warning!</span>"
   ]
  },
  {
   "cell_type": "markdown",
   "id": "7b3277b3-dd10-4196-ad5e-096a7c2ecb7d",
   "metadata": {},
   "source": [
    "The following materials are for data review purposes only. The results of the prompts **should not be used in scientific work under any circumstances**. The prompts should only be used for preliminary data review. Final statistics and data analysis should be performed by a professional statistician. "
   ]
  },
  {
   "cell_type": "markdown",
   "id": "0bbbc2e3-584b-4354-b086-9ec7d51a8fa8",
   "metadata": {},
   "source": [
    "## Data overview"
   ]
  },
  {
   "cell_type": "markdown",
   "id": "292d19d6-d660-4351-b458-53e6d0574e9e",
   "metadata": {},
   "source": [
    "**[Heart Disease Cleveland](https://www.kaggle.com/datasets/ritwikb3/heart-disease-cleveland/data)**\n",
    "\n",
    "The dataset is the Cleveland Heart Disease dataset taken from the UCI repository. The dataset consists of 303 individuals’ data.\n",
    "\n",
    "\n",
    "[Licence:CC BY-SA 4.0](https://creativecommons.org/licenses/by-sa/4.0/)"
   ]
  },
  {
   "cell_type": "markdown",
   "id": "3d1e0418-e2b2-4f07-aeae-afb6940fa656",
   "metadata": {},
   "source": [
    "1. **Age**: Patients Age in years \n",
    "2. **Sex**: Gender (Male : 1; Female : 0) \n",
    "3. **cp**: Type of chest pain experienced by patient. This term categorized into 4 category.\n",
    "    - 0 typical angina,\n",
    "    - 1 atypical angina,\n",
    "    - 2 non-anginal pain,\n",
    "    - 3 asymptomatic \n",
    "4. **trestbps**: patient's level of blood pressure at resting mode in mm/HG \n",
    "5. **chol**: Serum cholesterol in mg/dl \n",
    "6. **fbs**: Blood sugar levels on fasting > 120 mg/dl represents as 1 in case of true and 0 as false \n",
    "7. **restecg**: Result of electrocardiogram while at rest are represented in 3 distinct values\n",
    "   - 0 : Normal\n",
    "   - 1: having ST-T wave abnormality (T wave inversions and/or ST elevation or depression of > 0.05 mV)\n",
    "   - 2: showing probable or definite left ventricular hypertrophyby Estes' criteria \n",
    "8. **thalach**: Maximum heart rate achieved \n",
    "9. **exang**: Angina induced by exercise 0 depicting NO 1 depicting Yes\n",
    "10. **oldpeak**: Exercise induced ST-depression in relative with the state of rest \n",
    "11. **slope**: ST segment measured in terms of slope during peak exercise\n",
    "    - 0: up sloping;\n",
    "    - 1: flat;\n",
    "    - 2: down sloping\n",
    "14. **ca**: The number of major vessels (0–3)\n",
    "15. **thal**: A blood disorder called thalassemia\n",
    "    - 0: NULL\n",
    "    - 1: normal blood flow\n",
    "    - 2: fixed defect (no blood flow in some part of the heart)\n",
    "    - 3: reversible defect (a blood flow is observed but it is not normal\n",
    "16. ***target***: It is the target variable which we have to predict. 1 means patient is suffering from heart disease and 0 means patient is normal."
   ]
  },
  {
   "cell_type": "markdown",
   "id": "2a96abc8-033e-41e9-ae6d-6c4cd9dc7d57",
   "metadata": {},
   "source": [
    "## Data loading"
   ]
  },
  {
   "cell_type": "markdown",
   "id": "16acf348-cd4c-4ace-ab3e-f66ef4cddc0d",
   "metadata": {},
   "source": [
    "**PROMPT: I need to load a dataset from given path to pandas'../data/Heart_disease_cleveland_new.csv'. Plase assign it to \"df\" variable**. "
   ]
  },
  {
   "cell_type": "code",
   "execution_count": null,
   "id": "85665216-4564-4f31-83a8-582e9a9c2a9e",
   "metadata": {},
   "outputs": [],
   "source": []
  },
  {
   "cell_type": "raw",
   "id": "5d26ae12-1c9f-4239-8cf2-ae6d01421137",
   "metadata": {
    "jupyter": {
     "source_hidden": true
    }
   },
   "source": [
    "import pandas as pd\n",
    "\n",
    "# Load the dataset from the given path\n",
    "df = pd.read_csv('../data/Heart_disease_cleveland_new.csv')\n",
    "\n",
    "# Display the first few rows\n",
    "print(df.head())"
   ]
  },
  {
   "cell_type": "markdown",
   "id": "eca3d168-3457-4236-a2aa-99547c331071",
   "metadata": {},
   "source": [
    "**PROMPT: Can I see table in a nicer outline?**"
   ]
  },
  {
   "cell_type": "code",
   "execution_count": null,
   "id": "e11d50cb-3ee9-4467-b510-5e7e478d8377",
   "metadata": {},
   "outputs": [],
   "source": []
  },
  {
   "cell_type": "raw",
   "id": "cd155e80-b3dd-4015-98cb-029a321199cc",
   "metadata": {
    "jupyter": {
     "source_hidden": true
    }
   },
   "source": [
    "import pandas as pd\n",
    "from IPython.display import display\n",
    "\n",
    "df = pd.read_csv('../data/Heart_disease_cleveland_new.csv')\n",
    "\n",
    "# Pretty table print in terminal\n",
    "display(df.head(10))"
   ]
  },
  {
   "cell_type": "markdown",
   "id": "f1553eea-fe0d-469f-b85a-867d2b7b07c1",
   "metadata": {},
   "source": [
    "**PROMPT: What types of data do I have in my dataset? Use \"display\" for presenting tables**"
   ]
  },
  {
   "cell_type": "code",
   "execution_count": null,
   "id": "bc0b5622-bfbd-4784-b84c-2a2accaa5d2a",
   "metadata": {},
   "outputs": [],
   "source": []
  },
  {
   "cell_type": "raw",
   "id": "2fbfe43a-e2aa-4864-9003-a2757033b0dc",
   "metadata": {
    "jupyter": {
     "source_hidden": true
    }
   },
   "source": [
    "# Show basic info about data types\n",
    "display(df.dtypes.to_frame(name='Data Type').rename_axis('Column Name').reset_index())"
   ]
  },
  {
   "cell_type": "markdown",
   "id": "a9b0cc3f-470f-4850-af99-ba6bb3b45762",
   "metadata": {},
   "source": [
    "## Data cleaning"
   ]
  },
  {
   "cell_type": "markdown",
   "id": "673ac33b-4788-48d0-ac05-9db156b45cd0",
   "metadata": {},
   "source": [
    "**PROMPT: I see that \"chol\" should be a number not an \"object\" how to check if there is no some accidently placed string in that and other columns where \"object\" type is shown**"
   ]
  },
  {
   "cell_type": "code",
   "execution_count": null,
   "id": "42a07b59-a68f-4200-8616-ce2adf5c611c",
   "metadata": {},
   "outputs": [],
   "source": []
  },
  {
   "cell_type": "raw",
   "id": "53643fe4-1be9-4eea-a5bd-ec9778b8ea25",
   "metadata": {
    "jupyter": {
     "source_hidden": true
    }
   },
   "source": [
    "# Loop over columns with type 'object'\n",
    "invalid_entries = {}\n",
    "\n",
    "for col in df.select_dtypes(include='object').columns:\n",
    "    # Try converting to numeric, track invalid (non-convertible) entries\n",
    "    mask = pd.to_numeric(df[col], errors='coerce').isna() & df[col].notna()\n",
    "    if mask.any():\n",
    "        invalid_entries[col] = df.loc[mask, col].unique()\n",
    "\n",
    "# Display results\n",
    "if invalid_entries:\n",
    "    display(pd.DataFrame(\n",
    "        [(k, ', '.join(map(str, v))) for k, v in invalid_entries.items()],\n",
    "        columns=['Column', 'Invalid Entries']\n",
    "    ))\n",
    "else:\n",
    "    print(\"✅ No non-numeric values found in object-type columns.\")"
   ]
  },
  {
   "cell_type": "markdown",
   "id": "2c1cce54-d87d-465f-b8ee-f22fb4ad8538",
   "metadata": {},
   "source": [
    "**PROMPT: How can I replace \"unknown\" by an empty value?**"
   ]
  },
  {
   "cell_type": "code",
   "execution_count": null,
   "id": "4f908413-4e8b-477b-be01-0c58d0b30746",
   "metadata": {},
   "outputs": [],
   "source": []
  },
  {
   "cell_type": "raw",
   "id": "03fdf558-9c95-41fa-aa3b-0833d542861c",
   "metadata": {
    "jupyter": {
     "source_hidden": true
    }
   },
   "source": [
    "import numpy as np\n",
    "df.replace(\"unknown\", np.nan, inplace=True)"
   ]
  },
  {
   "cell_type": "markdown",
   "id": "a82c8c0d-8e2d-4411-a4cb-46c919bf0010",
   "metadata": {},
   "source": [
    "**PROMPT: I replaced, but \"chol\" is still an \"object\" in my dataframe** "
   ]
  },
  {
   "cell_type": "code",
   "execution_count": null,
   "id": "04dad12c-1f3d-4059-b14b-bc56aff8a773",
   "metadata": {},
   "outputs": [],
   "source": []
  },
  {
   "cell_type": "raw",
   "id": "1746bff6-cd29-413b-abf6-8b42211c2df2",
   "metadata": {
    "jupyter": {
     "source_hidden": true
    }
   },
   "source": [
    "df['chol'] = pd.to_numeric(df['chol'], errors='coerce')"
   ]
  },
  {
   "cell_type": "markdown",
   "id": "ee47ec51-f6b4-4ee1-b26c-5ad9e7b9fc6d",
   "metadata": {},
   "source": [
    "**PROPMPT: How to discover outliers in my dataset?**"
   ]
  },
  {
   "cell_type": "code",
   "execution_count": null,
   "id": "fc251ba3-102d-497a-80dc-eefa654bd5a9",
   "metadata": {},
   "outputs": [],
   "source": []
  },
  {
   "cell_type": "code",
   "execution_count": null,
   "id": "47b94f8c-8bb5-49d8-8068-24ed8e7168f8",
   "metadata": {},
   "outputs": [],
   "source": []
  },
  {
   "cell_type": "raw",
   "id": "04249477-4d0b-4a13-8281-734f042d067c",
   "metadata": {
    "jupyter": {
     "source_hidden": true
    }
   },
   "source": [
    "# Calculate IQR and detect outliers for each numeric column\n",
    "outlier_summary = []\n",
    "for col in df.select_dtypes(include=['number']).columns:\n",
    "    Q1 = df[col].quantile(0.25)\n",
    "    Q3 = df[col].quantile(0.75)\n",
    "    IQR = Q3 - Q1\n",
    "    lower_bound = Q1 - 1.5 * IQR\n",
    "    upper_bound = Q3 + 1.5 * IQR\n",
    "\n",
    "    outliers = df[(df[col] < lower_bound) | (df[col] > upper_bound)][col]\n",
    "    outlier_summary.append((col, len(outliers), outliers.min(), outliers.max()))\n",
    "\n",
    "display(pd.DataFrame(outlier_summary, columns=['Column', 'Outlier Count', 'Min Outlier', 'Max Outlier']))"
   ]
  },
  {
   "cell_type": "raw",
   "id": "5aff50d9-14a4-4528-82c1-b1c221c48f77",
   "metadata": {
    "jupyter": {
     "source_hidden": true
    }
   },
   "source": [
    "import matplotlib.pyplot as plt\n",
    "\n",
    "df.select_dtypes(include=['number']).boxplot(figsize=(12,6))\n",
    "plt.title('Boxplots for Numeric Features (IQR Outlier Detection)')\n",
    "plt.show()"
   ]
  },
  {
   "cell_type": "markdown",
   "id": "b7c1d97b-4843-41f9-b164-973addb60b56",
   "metadata": {},
   "source": [
    "**PROMPT: I see that maximum velues for \"chol\" and \"thalach\" are outliers as well as minimum value for \"target\". How to replace them with an empty value?**"
   ]
  },
  {
   "cell_type": "code",
   "execution_count": null,
   "id": "33e5484a-63b2-41ea-963e-fb15916ec57c",
   "metadata": {},
   "outputs": [],
   "source": []
  },
  {
   "cell_type": "raw",
   "id": "1ab9f599-022d-4181-857a-63a740908e90",
   "metadata": {
    "jupyter": {
     "source_hidden": true
    }
   },
   "source": [
    "# For 'chol' — replace the maximum value with NaN\n",
    "df.loc[df['chol'] == df['chol'].max(), 'chol'] = np.nan\n",
    "\n",
    "# For 'thalach' — replace the maximum value with NaN\n",
    "df.loc[df['thalach'] == df['thalach'].max(), 'thalach'] = np.nan\n",
    "\n",
    "# For 'target' — replace the minimum value with NaN\n",
    "df.loc[df['target'] == df['target'].min(), 'target'] = np.nan"
   ]
  },
  {
   "cell_type": "markdown",
   "id": "69bc0ba3-dd4d-4193-9ea4-da4e2c3eddac",
   "metadata": {},
   "source": [
    "**PROMPT: How many missing values are in my dataset?**"
   ]
  },
  {
   "cell_type": "code",
   "execution_count": null,
   "id": "72724827-59b8-47ef-be5a-55c66d9aa7aa",
   "metadata": {},
   "outputs": [],
   "source": []
  },
  {
   "cell_type": "raw",
   "id": "d7996b7b-ee08-4bc6-9b19-74b498dbd4b9",
   "metadata": {
    "jupyter": {
     "source_hidden": true
    }
   },
   "source": [
    "# Count missing values per column\n",
    "missing_summary = (\n",
    "    df.isna().sum()\n",
    "    .to_frame(name='Missing Values')\n",
    "    .rename_axis('Column Name')\n",
    "    .reset_index()\n",
    ")\n",
    "\n",
    "# Display as a nice table\n",
    "display(missing_summary)\n",
    "\n",
    "# Optionally, total number of missing values in the dataset\n",
    "print(f\"\\nTotal missing values in dataset: {df.isna().sum().sum()}\")"
   ]
  },
  {
   "cell_type": "markdown",
   "id": "40cecc8b-32e7-4aab-85f5-931dbfd926ac",
   "metadata": {},
   "source": [
    "**PROMPT: How to remove all records that contain at least one empty value?**"
   ]
  },
  {
   "cell_type": "code",
   "execution_count": null,
   "id": "15587ad0-f484-4725-84c4-ec254239d3cd",
   "metadata": {},
   "outputs": [],
   "source": []
  },
  {
   "cell_type": "code",
   "execution_count": null,
   "id": "9237bec5-d583-4897-aaad-acb98a84d03e",
   "metadata": {},
   "outputs": [],
   "source": []
  },
  {
   "cell_type": "raw",
   "id": "d9ff3e2e-a86b-4b85-b20c-d6e4dcd20e7f",
   "metadata": {
    "jupyter": {
     "source_hidden": true
    }
   },
   "source": [
    "df = df.dropna()\n",
    "print((df.isna().any(axis=1)).sum())"
   ]
  },
  {
   "cell_type": "raw",
   "id": "39f05f2c-7b54-4489-832a-41193f58e81d",
   "metadata": {
    "jupyter": {
     "source_hidden": true
    }
   },
   "source": [
    "df.info()"
   ]
  },
  {
   "cell_type": "markdown",
   "id": "67ad66f8-824f-45dd-80e0-e91aee44ab20",
   "metadata": {},
   "source": [
    "**PROMPT: How to check if there any duplicates?**"
   ]
  },
  {
   "cell_type": "code",
   "execution_count": null,
   "id": "16124943-2834-4340-aa2f-95d1d263c78e",
   "metadata": {},
   "outputs": [],
   "source": []
  },
  {
   "cell_type": "raw",
   "id": "7f31bf0a-8e5c-4a1d-b055-cb14dfed4db1",
   "metadata": {
    "jupyter": {
     "source_hidden": true
    }
   },
   "source": [
    "# Count how many duplicate rows exist\n",
    "duplicate_count = df.duplicated().sum()\n",
    "print(f\"Number of duplicate rows: {duplicate_count}\")"
   ]
  },
  {
   "cell_type": "markdown",
   "id": "9c83dc9f-e277-4b15-8863-7a6f62eff772",
   "metadata": {},
   "source": [
    "## Basic statistics"
   ]
  },
  {
   "cell_type": "markdown",
   "id": "5cdbca72-afa9-4c93-9de2-40d0241d3e91",
   "metadata": {},
   "source": [
    "**PROMPT: How to obtain column names containing continuous and categorical values?**"
   ]
  },
  {
   "cell_type": "code",
   "execution_count": null,
   "id": "31393d9c-32ae-4c25-8ba9-d0d3b2ea0e35",
   "metadata": {},
   "outputs": [],
   "source": []
  },
  {
   "cell_type": "raw",
   "id": "82dd90dd-26a5-44ca-ae4d-9f8e70d3a1da",
   "metadata": {
    "jupyter": {
     "source_hidden": true
    }
   },
   "source": [
    "# Identify numeric columns\n",
    "numeric_cols = df.select_dtypes(include=['number']).columns.tolist()\n",
    "\n",
    "# Identify categorical columns\n",
    "categorical_cols = df.select_dtypes(exclude=['number']).columns.tolist()\n",
    "\n",
    "# Separate continuous vs discrete numeric (optional refinement)\n",
    "# Continuous: many unique numeric values\n",
    "# Discrete: few unique numeric values (e.g., 0/1 target or small category codes)\n",
    "continuous_cols = [col for col in numeric_cols if df[col].nunique() > 10]\n",
    "discrete_cols = [col for col in numeric_cols if df[col].nunique() <= 10]\n",
    "\n",
    "# Display results\n",
    "display(pd.DataFrame({\n",
    "    'Continuous Columns': pd.Series(continuous_cols),\n",
    "    'Discrete/Categorical Columns': pd.Series(categorical_cols + discrete_cols)\n",
    "}))\n",
    "print(\"continuous_cols\": continuous_cols)\n",
    "print(\"discrete_cols\": discrete_cols)"
   ]
  },
  {
   "cell_type": "markdown",
   "id": "7d752ff1-a7e2-4a42-a189-62b4e695c33b",
   "metadata": {},
   "source": [
    "**PROMPT: How to display histograms for continuous data?**"
   ]
  },
  {
   "cell_type": "code",
   "execution_count": null,
   "id": "992e99e8-e56c-4772-acfa-810444301491",
   "metadata": {},
   "outputs": [],
   "source": []
  },
  {
   "cell_type": "raw",
   "id": "d685f3d7-6667-4d6f-8e03-3b0f32ad9d52",
   "metadata": {
    "jupyter": {
     "source_hidden": true
    }
   },
   "source": [
    "import matplotlib.pyplot as plt\n",
    "\n",
    "# Identify continuous columns (if not already done)\n",
    "continuous_cols = [col for col in df.select_dtypes(include='number').columns if df[col].nunique() > 10]\n",
    "\n",
    "# Plot histograms\n",
    "for col in continuous_cols:\n",
    "    plt.figure(figsize=(6, 4))\n",
    "    plt.hist(df[col].dropna(), bins=30)  # drop NaNs just in case\n",
    "    plt.title(f'Histogram of {col}')\n",
    "    plt.xlabel(col)\n",
    "    plt.ylabel('Frequency')\n",
    "    plt.grid(True)\n",
    "    plt.show()"
   ]
  },
  {
   "cell_type": "markdown",
   "id": "3e5c7c1d-5313-4801-b8b5-5eee9bf40635",
   "metadata": {},
   "source": [
    "**PROMPT: How to get basic statistic for continuous data?**"
   ]
  },
  {
   "cell_type": "code",
   "execution_count": null,
   "id": "d7501e8c-3bf9-4e39-9b78-80a35bc35d8f",
   "metadata": {},
   "outputs": [],
   "source": []
  },
  {
   "cell_type": "raw",
   "id": "358042f6-0062-4835-ab3d-a8be288eaa6d",
   "metadata": {
    "jupyter": {
     "source_hidden": true
    }
   },
   "source": [
    "# Get basic statistics for continuous data\n",
    "stats = df[continuous_cols].describe().T  # transpose for easier reading\n",
    "display(stats)"
   ]
  },
  {
   "cell_type": "markdown",
   "id": "85bed3c1-2e3c-42b1-8c86-605834ecb22b",
   "metadata": {},
   "source": [
    "**PROMPT: How to visualize discrete columns?**"
   ]
  },
  {
   "cell_type": "code",
   "execution_count": null,
   "id": "821a7528-15e5-4f0e-ad45-07dd8250c7b5",
   "metadata": {},
   "outputs": [],
   "source": []
  },
  {
   "cell_type": "raw",
   "id": "9978c596-ed6e-441b-80ef-9ce87d1e811c",
   "metadata": {
    "jupyter": {
     "source_hidden": true
    }
   },
   "source": [
    "# Identify discrete/categorical columns\n",
    "categorical_cols = [col for col in df.columns if df[col].dtype == 'object' or df[col].nunique() <= 10]\n",
    "\n",
    "# Plot bar charts\n",
    "for col in categorical_cols:\n",
    "    plt.figure(figsize=(6, 4))\n",
    "    df[col].value_counts().plot(kind='bar')\n",
    "    plt.title(f'Distribution of {col}')\n",
    "    plt.xlabel(col)\n",
    "    plt.ylabel('Count')\n",
    "    plt.grid(axis='y')\n",
    "    plt.show()"
   ]
  },
  {
   "cell_type": "raw",
   "id": "82ef3f56-14b4-4185-84c2-bbd5c0c506ca",
   "metadata": {
    "jupyter": {
     "source_hidden": true
    }
   },
   "source": [
    "df['target'].value_counts().plot(kind='pie', autopct='%1.1f%%', figsize=(5,5))\n",
    "plt.title('Target distribution')\n",
    "plt.ylabel('')\n",
    "plt.show()"
   ]
  },
  {
   "cell_type": "markdown",
   "id": "4cf0dfcb-f697-4f46-8c42-9791daa8a920",
   "metadata": {},
   "source": [
    "**PROMPT: How to get basic statistics for categorical variables?**"
   ]
  },
  {
   "cell_type": "code",
   "execution_count": null,
   "id": "35b63709-a019-4d20-92ed-78b566389663",
   "metadata": {},
   "outputs": [],
   "source": []
  },
  {
   "cell_type": "raw",
   "id": "741355da-579f-4804-a53c-97a88437b068",
   "metadata": {
    "jupyter": {
     "source_hidden": true
    }
   },
   "source": [
    "categorical_cols = [col for col in df.columns if df[col].dtype == 'object' or df[col].nunique() <= 10]\n",
    "p_value\n",
    "# Compute basic stats for each categorical column\n",
    "cat_stats = pd.DataFrame({\n",
    "    'Unique Values': [df[col].nunique() for col in categorical_cols],\n",
    "    'Most Frequent': [df[col].mode()[0] if not df[col].mode().empty else None for col in categorical_cols],\n",
    "    'Frequency of Most Frequent': [df[col].value_counts().iloc[0] if not df[col].value_counts().empty else 0 for col in categorical_cols],\n",
    "    'Missing Values': [df[col].isna().sum() for col in categorical_cols]\n",
    "}, index=categorical_cols)\n",
    "\n",
    "display(cat_stats)"
   ]
  },
  {
   "cell_type": "markdown",
   "id": "a6d7d5d1-2791-45c4-83ea-5c15b7710b6b",
   "metadata": {},
   "source": [
    "**PROMPT: Can I get a table showing the numbers and percentages for each categorical variable?**"
   ]
  },
  {
   "cell_type": "code",
   "execution_count": null,
   "id": "60ec87fc-20ca-4715-ac09-4327150bd4c4",
   "metadata": {},
   "outputs": [],
   "source": []
  },
  {
   "cell_type": "raw",
   "id": "4f688c8a-2cca-4a66-bb8b-38ce0082ce81",
   "metadata": {
    "jupyter": {
     "source_hidden": true
    }
   },
   "source": [
    "# Build a summary table\n",
    "cat_summary = []\n",
    "\n",
    "for col in categorical_cols:\n",
    "    counts = df[col].value_counts(dropna=False)\n",
    "    percentages = (counts / len(df) * 100).round(2)\n",
    "    temp_df = pd.DataFrame({'Category': counts.index, 'Count': counts.values, 'Percentage': percentages.values})\n",
    "    temp_df.insert(0, 'Variable', col)\n",
    "    cat_summary.append(temp_df)\n",
    "\n",
    "# Combine all summaries into one table\n",
    "cat_summary_df = pd.concat(cat_summary, ignore_index=True)\n",
    "\n",
    "display(cat_summary_df)"
   ]
  },
  {
   "cell_type": "markdown",
   "id": "c42777ec-4b9d-49ce-ac06-b5f1ebac9fcc",
   "metadata": {},
   "source": [
    "**PROMPT: Can I see correlation matrix for my data?**"
   ]
  },
  {
   "cell_type": "code",
   "execution_count": null,
   "id": "76fc277b-ec90-441a-866b-d72a31fa210b",
   "metadata": {},
   "outputs": [],
   "source": []
  },
  {
   "cell_type": "code",
   "execution_count": null,
   "id": "4119c5de-44e9-47c1-a84f-2e0c1affcb85",
   "metadata": {},
   "outputs": [],
   "source": []
  },
  {
   "cell_type": "raw",
   "id": "3a2b5622-86da-4f15-ac10-773cfc7f6450",
   "metadata": {
    "jupyter": {
     "source_hidden": true
    }
   },
   "source": [
    "# Compute correlation for numeric columns only\n",
    "corr_matrix = df.select_dtypes(include='number').corr()\n",
    "\n",
    "# Display neatly\n",
    "display(corr_matrix.round(2))"
   ]
  },
  {
   "cell_type": "raw",
   "id": "1a074979-9b48-47ff-9bfd-4062bbdc3252",
   "metadata": {
    "jupyter": {
     "source_hidden": true
    }
   },
   "source": [
    "corr_matrix = df.select_dtypes(include='number').corr()\n",
    "\n",
    "# Plot heatmap with values\n",
    "plt.figure(figsize=(10, 8))\n",
    "plt.imshow(corr_matrix, cmap='coolwarm', interpolation='nearest')\n",
    "plt.colorbar(label='Correlation')\n",
    "\n",
    "# Axis ticks\n",
    "plt.xticks(ticks=np.arange(len(corr_matrix.columns)), labels=corr_matrix.columns, rotation=90)\n",
    "plt.yticks(ticks=np.arange(len(corr_matrix.columns)), labels=corr_matrix.columns)\n",
    "plt.title('Correlation Matrix Heatmap')\n",
    "\n",
    "# Add text annotations for correlation values\n",
    "for i in range(len(corr_matrix.columns)):\n",
    "    for j in range(len(corr_matrix.columns)):\n",
    "        plt.text(j, i, f\"{corr_matrix.iloc[i, j]:.1f}\",\n",
    "                 ha='center', va='center', color='black', fontsize=9)\n",
    "\n",
    "plt.tight_layout()\n",
    "plt.show()"
   ]
  },
  {
   "cell_type": "markdown",
   "id": "684cfcc8-692a-458a-a98e-cf04810c4a50",
   "metadata": {},
   "source": [
    "**PROMPT: I do not see \"sex\" in the list (Male, Female), how to include them?**"
   ]
  },
  {
   "cell_type": "code",
   "execution_count": null,
   "id": "e1cf37cc-238f-4c70-9716-e1483a1122dd",
   "metadata": {},
   "outputs": [],
   "source": []
  },
  {
   "cell_type": "raw",
   "id": "3980d9d7-b160-4e4e-b824-6626b105cab1",
   "metadata": {
    "jupyter": {
     "source_hidden": true
    }
   },
   "source": [
    "# Create a numeric version for correlation\n",
    "df['sex_num'] = df['sex'].map({'Female': 0, 'Male': 1})"
   ]
  },
  {
   "cell_type": "markdown",
   "id": "f77d5414-4b20-4c70-8d09-91e14c577076",
   "metadata": {},
   "source": [
    "## Statistics on groups"
   ]
  },
  {
   "cell_type": "markdown",
   "id": "13de8bfc-2046-4127-aec0-f198be15a47f",
   "metadata": {},
   "source": [
    "**PROMPT: Can you show basic statistics per sex?**"
   ]
  },
  {
   "cell_type": "code",
   "execution_count": null,
   "id": "f7653c42-ca74-4374-82dd-7afe262358b7",
   "metadata": {},
   "outputs": [],
   "source": []
  },
  {
   "cell_type": "raw",
   "id": "4f48971b-8462-4a35-9c56-a59aac3714c3",
   "metadata": {
    "jupyter": {
     "source_hidden": true
    }
   },
   "source": [
    "# Compute statistics grouped by 'sex'\n",
    "sex_stats = df.groupby('sex').describe().T  # Transpose for readability\n",
    "display(sex_stats)\n",
    "display(df.groupby('sex').agg(['mean', 'std', 'min', 'max']).T)"
   ]
  },
  {
   "cell_type": "raw",
   "id": "0e7f0c15-1eba-4d05-98ad-fab24d4545bd",
   "metadata": {
    "jupyter": {
     "source_hidden": true
    }
   },
   "source": [
    "import matplotlib.pyplot as plt\n",
    "p_value\n",
    "df.boxplot(column='chol', by='sex', figsize=(6,4))\n",
    "plt.title('Cholesterol Levels by Sex')\n",
    "plt.suptitle('')\n",
    "plt.xlabel('Sex')\n",
    "plt.ylabel('Cholesterol')\n",
    "plt.show()"
   ]
  },
  {
   "cell_type": "markdown",
   "id": "2c2cb07c-fee2-455a-9e1c-6aea48eccf16",
   "metadata": {},
   "source": [
    "**PROMPT: Can you show a plot of \"chol\" vs \"age\" regarding \"target\"?**"
   ]
  },
  {
   "cell_type": "code",
   "execution_count": null,
   "id": "fcc37588-18bc-4e30-b186-71354d1f0842",
   "metadata": {},
   "outputs": [],
   "source": []
  },
  {
   "cell_type": "code",
   "execution_count": null,
   "id": "ff9b022f-3ad1-480f-ab21-909af566ee8c",
   "metadata": {},
   "outputs": [],
   "source": []
  },
  {
   "cell_type": "raw",
   "id": "37900fa7-4da6-4f17-adcc-245a1928a56d",
   "metadata": {
    "jupyter": {
     "source_hidden": true
    }
   },
   "source": [
    "plt.figure(figsize=(7, 5))\n",
    "\n",
    "# Scatter plot: color by target (e.g., 0 = no disease, 1 = disease)\n",
    "for t in df['target'].unique():\n",
    "    subset = df[df['target'] == t]\n",
    "    plt.scatter(subset['age'], subset['chol'], label=f'Target {t}', alpha=0.7)\n",
    "\n",
    "plt.title('Cholesterol vs Age by Target')\n",
    "plt.xlabel('Age')\n",
    "plt.ylabel('Cholesterol (chol)')\n",
    "plt.legend(title='Target')\n",
    "plt.grid(True)\n",
    "plt.show()"
   ]
  },
  {
   "cell_type": "raw",
   "id": "13449773-44c5-4ae0-8783-e55e05276627",
   "metadata": {
    "jupyter": {
     "source_hidden": true
    }
   },
   "source": [
    "from scipy.stats import linregress\n",
    "\n",
    "plt.figure(figsize=(8, 6))\n",
    "\n",
    "# Define target labels for readability\n",
    "target_labels = {0: 'No Disease', 1: 'Disease'}\n",
    "\n",
    "# Compute and plot regression for each target group\n",
    "for t, label in target_labels.items():\n",
    "    subset = df[df['target'] == t]\n",
    "    x = subset['age']\n",
    "    y = subset['chol']\n",
    "\n",
    "    # Perform linear regression\n",
    "    slope, intercept, r_value, p_value, std_err = linregress(x, y)\n",
    "\n",
    "    # Scatter plot for this group\n",
    "    plt.scatter(x, y, alpha=0.6, label=f'{label} (n={len(subset)})')\n",
    "\n",
    "    # Regression line\n",
    "    plt.plot(x, slope * x + intercept, linewidth=2)\n",
    "\n",
    "    # Print regression statistics\n",
    "    print(f\"{label}: slope={slope:.2f}, intercept={intercept:.2f}, R²={r_value**2:.3f}, p={p_value:.3f}\")\n",
    "\n",
    "plt.title('Cholesterol vs Age by Target with Regression Lines')\n",
    "plt.xlabel('Age')\n",
    "plt.ylabel('Cholesterol (chol)')\n",
    "plt.legend(title='Target')\n",
    "plt.grid(True)\n",
    "plt.show()"
   ]
  },
  {
   "cell_type": "markdown",
   "id": "5fdb240a-f7c3-44e6-b446-0e5963c8879e",
   "metadata": {},
   "source": [
    "## Statistical tests"
   ]
  },
  {
   "cell_type": "markdown",
   "id": "1417cc20-a8a9-4808-ab95-9bba110458dd",
   "metadata": {},
   "source": [
    "**PROMPT: Can you show me how to check if there is statistical significance between men and women for each variable?**"
   ]
  },
  {
   "cell_type": "code",
   "execution_count": null,
   "id": "cb7890c8-f3da-4442-95de-9d167d5eeacb",
   "metadata": {},
   "outputs": [],
   "source": []
  },
  {
   "cell_type": "raw",
   "id": "76864cc5-dc55-4834-8dca-577dd9752607",
   "metadata": {
    "jupyter": {
     "source_hidden": true
    }
   },
   "source": [
    "from scipy.stats import ttest_ind\n",
    "from IPython.display import display\n",
    "import pandas as pd\n",
    "\n",
    "# Identify continuous columns\n",
    "continuous_cols = [col for col in df.select_dtypes(include='number').columns if df[col].nunique() > 10]\n",
    "\n",
    "# Split data by sex\n",
    "male_df = df[df['sex'] == 'Male']\n",
    "female_df = df[df['sex'] == 'Female']\n",
    "\n",
    "# Run independent t-tests\n",
    "t_results = []\n",
    "for col in continuous_cols:\n",
    "    t_stat, p_val = ttest_ind(male_df[col].dropna(), female_df[col].dropna(), equal_var=False)  # Welch’s t-test\n",
    "    t_results.append({'Variable': col, 't-statistic': t_stat, 'p-value': p_val})\n",
    "\n",
    "t_results_df = pd.DataFrame(t_results)\n",
    "t_results_df['Significant (p<0.05)'] = t_results_df['p-value'] < 0.05\n",
    "display(t_results_df)"
   ]
  },
  {
   "cell_type": "raw",
   "id": "72d3ccea-5f2f-4d66-b2a2-3cabd7a90d2b",
   "metadata": {
    "jupyter": {
     "source_hidden": true
    }
   },
   "source": [
    "from scipy.stats import chi2_contingency\n",
    "\n",
    "# Identify categorical/discrete columns\n",
    "categorical_cols = [col for col in df.columns if df[col].dtype == 'object' or df[col].nunique() <= 10]\n",
    "categorical_cols = [c for c in categorical_cols if c != 'sex']  # exclude sex itself\n",
    "\n",
    "chi_results = []\n",
    "for col in categorical_cols:\n",
    "    contingency = pd.crosstab(df['sex'], df[col])\n",
    "    chi2, p_val, dof, exp = chi2_contingency(contingency)\n",
    "    chi_results.append({'Variable': col, 'Chi²': chi2, 'p-value': p_val})\n",
    "\n",
    "chi_results_df = pd.DataFrame(chi_results)\n",
    "chi_results_df['Significant (p<0.05)'] = chi_results_df['p-value'] < 0.05\n",
    "display(chi_results_df)"
   ]
  },
  {
   "cell_type": "markdown",
   "id": "83dd6443-390e-4253-a766-ca01dc26ecc2",
   "metadata": {},
   "source": [
    "**PROMPT: How to create two tables containing general statistics: total, men, women. Number and percentage for categorical variables, median and IQR range for continuous variables? Calculate the “p-value” in each table. All floating point numbers should be rounded to three decimal places.**"
   ]
  },
  {
   "cell_type": "code",
   "execution_count": null,
   "id": "8a3c5fa4-1281-48d1-aa8b-bd7ccdb83dae",
   "metadata": {},
   "outputs": [],
   "source": []
  },
  {
   "cell_type": "raw",
   "id": "2975936f-7847-4635-a16e-b240cf083292",
   "metadata": {
    "jupyter": {
     "source_hidden": true
    }
   },
   "source": [
    "import pandas as pd\n",
    "import numpy as np\n",
    "from scipy.stats import chi2_contingency, mannwhitneyu\n",
    "from IPython.display import display\n",
    "\n",
    "# -----------------------\n",
    "# Identify variable types\n",
    "# -----------------------\n",
    "categorical_cols = [col for col in df.columns if df[col].dtype == 'object' or df[col].nunique() <= 10]\n",
    "categorical_cols = [c for c in categorical_cols if c != 'sex']  # exclude sex itself\n",
    "continuous_cols = [col for col in df.select_dtypes(include='number').columns if df[col].nunique() > 10]\n",
    "\n",
    "# Split data by sex\n",
    "male_df = df[df['sex'] == 'Male']\n",
    "female_df = df[df['sex'] == 'Female']\n",
    "\n",
    "# ========================\n",
    "# Table 1 — Categorical\n",
    "# ========================\n",
    "cat_summary = []\n",
    "for col in categorical_cols:\n",
    "    counts = df[col].value_counts(dropna=False)\n",
    "    total_count = counts.sum()\n",
    "\n",
    "    # Chi-square test\n",
    "    contingency = pd.crosstab(df['sex'], df[col])\n",
    "    chi2, p_val, dof, exp = chi2_contingency(contingency)\n",
    "\n",
    "    for category in counts.index:\n",
    "        n_total = counts[category]\n",
    "        n_male = male_df[col].value_counts(dropna=False).get(category, 0)\n",
    "        n_female = female_df[col].value_counts(dropna=False).get(category, 0)\n",
    "\n",
    "        cat_summary.append({\n",
    "            'Variable': col,\n",
    "            'Category': category,\n",
    "            'Total (n,%)': f\"{n_total} ({n_total/total_count*100:.3f}%)\",\n",
    "            'Men (n,%)': f\"{n_male} ({n_male/len(male_df)*100:.3f}%)\",\n",
    "            'Women (n,%)': f\"{n_female} ({n_female/len(female_df)*100:.3f}%)\",\n",
    "            'p-value': round(p_val, 3)\n",
    "        })\n",
    "\n",
    "cat_summary_df = pd.DataFrame(cat_summary)\n",
    "display(cat_summary_df)\n",
    "\n",
    "# ========================\n",
    "# Table 2 — Continuous\n",
    "# ========================\n",
    "cont_summary = []\n",
    "for col in continuous_cols:\n",
    "    # Calculate median and IQR\n",
    "    med_total = df[col].median()\n",
    "    q1_total, q3_total = df[col].quantile([0.25, 0.75])\n",
    "    med_male = male_df[col].median()\n",
    "    q1_male, q3_male = male_df[col].quantile([0.25, 0.75])\n",
    "    med_female = female_df[col].median()\n",
    "    q1_female, q3_female = female_df[col].quantile([0.25, 0.75])\n",
    "\n",
    "    # Mann–Whitney U test (non-parametric)\n",
    "    u_stat, p_val = mannwhitneyu(male_df[col].dropna(), female_df[col].dropna(), alternative='two-sided')\n",
    "\n",
    "    cont_summary.append({\n",
    "        'Variable': col,\n",
    "        'Total (median [IQR])': f\"{med_total:.3f} [{q1_total:.3f}–{q3_total:.3f}]\",\n",
    "        'Men (median [IQR])': f\"{med_male:.3f} [{q1_male:.3f}–{q3_male:.3f}]\",\n",
    "        'Women (median [IQR])': f\"{med_female:.3f} [{q1_female:.3f}–{q3_female:.3f}]\",\n",
    "        'p-value': round(p_val, 3)\n",
    "    })\n",
    "\n",
    "cont_summary_df = pd.DataFrame(cont_summary)\n",
    "display(cont_summary_df)\n"
   ]
  },
  {
   "cell_type": "markdown",
   "id": "261f65ef-4c7b-4790-acb7-ce5c3ead7e30",
   "metadata": {},
   "source": [
    "**PROMPT: How to make a \"p\" correction? Justify your choice of method.**"
   ]
  },
  {
   "cell_type": "code",
   "execution_count": null,
   "id": "55c2929d-faac-4f9e-8c1f-f0aa59260ca0",
   "metadata": {},
   "outputs": [],
   "source": []
  },
  {
   "cell_type": "raw",
   "id": "76ad1292-51fe-4319-8bf9-0a5ea79921f9",
   "metadata": {
    "jupyter": {
     "source_hidden": true
    }
   },
   "source": [
    "from statsmodels.stats.multitest import multipletests\n",
    "import pandas as pd\n",
    "from IPython.display import display\n",
    "\n",
    "# Before correction, keep only one p-value per categorical variable\n",
    "unique_pvals = pd.concat([\n",
    "    cont_summary_df[['Variable', 'p-value']],\n",
    "    cat_summary_df[['Variable', 'p-value']].drop_duplicates('Variable')\n",
    "], ignore_index=True)\n",
    "\n",
    "# Apply Benjamini–Hochberg correction\n",
    "from statsmodels.stats.multitest import multipletests\n",
    "reject, pvals_corrected, _, _ = multipletests(unique_pvals['p-value'], method='fdr_bh')\n",
    "\n",
    "unique_pvals['p-corrected'] = pvals_corrected.round(3)\n",
    "\n",
    "# Merge back to original tables\n",
    "cont_summary_df = cont_summary_df.merge(unique_pvals[['Variable', 'p-corrected']], on='Variable', how='left')\n",
    "cat_summary_df = cat_summary_df.merge(unique_pvals[['Variable', 'p-corrected']], on='Variable', how='left')\n",
    "\n",
    "\n",
    "display(cont_summary_df)\n",
    "display(cat_summary_df)"
   ]
  },
  {
   "cell_type": "markdown",
   "id": "34b32c08-5052-4f28-892f-99a862a275b3",
   "metadata": {},
   "source": [
    "## Discovering risk factors"
   ]
  },
  {
   "cell_type": "markdown",
   "id": "ea04715f-3a7c-48ae-aa3d-797b4c2686ce",
   "metadata": {},
   "source": [
    "**PROMPT: How to discover risk factors for my \"target\"?**"
   ]
  },
  {
   "cell_type": "code",
   "execution_count": null,
   "id": "8025975b-9cfc-48bd-9836-6e32db5dead3",
   "metadata": {},
   "outputs": [],
   "source": []
  },
  {
   "cell_type": "code",
   "execution_count": null,
   "id": "7602ce3f-f95d-4f74-806c-1104cf3c90bb",
   "metadata": {},
   "outputs": [],
   "source": []
  },
  {
   "cell_type": "raw",
   "id": "201619fb-8b64-49fe-970c-9d439e801213",
   "metadata": {
    "jupyter": {
     "source_hidden": true
    }
   },
   "source": [
    "from scipy.stats import mannwhitneyu, chi2_contingency\n",
    "import pandas as pd\n",
    "from IPython.display import display\n",
    "\n",
    "# Identify variable types\n",
    "categorical_cols = [col for col in df.columns if df[col].dtype == 'object' or df[col].nunique() <= 10]\n",
    "categorical_cols = [c for c in categorical_cols if c not in ['target']]  # exclude target\n",
    "continuous_cols = [col for col in df.select_dtypes(include='number').columns if df[col].nunique() > 10]\n",
    "\n",
    "results = []\n",
    "\n",
    "# Continuous variables: Mann–Whitney U test\n",
    "for col in continuous_cols:\n",
    "    group1 = df[df['target'] == 0][col].dropna()\n",
    "    group2 = df[df['target'] == 1][col].dropna()\n",
    "    stat, p_val = mannwhitneyu(group1, group2, alternative='two-sided')\n",
    "    results.append({'Variable': col, 'Type': 'Continuous', 'p-value': p_val})\n",
    "\n",
    "# Categorical variables: Chi-square test\n",
    "for col in categorical_cols:\n",
    "    contingency = pd.crosstab(df[col], df['target'])\n",
    "    chi2, p_val, dof, exp = chi2_contingency(contingency)\n",
    "    results.append({'Variable': col, 'Type': 'Categorical', 'p-value': p_val})\n",
    "\n",
    "univariate_df = pd.DataFrame(results)\n",
    "univariate_df['Significant (p<0.05)'] = univariate_df['p-value'] < 0.05\n",
    "display(univariate_df.sort_values('p-value'))"
   ]
  },
  {
   "cell_type": "raw",
   "id": "1f01c475-ad07-4d10-bcd8-24538b6b3432",
   "metadata": {
    "jupyter": {
     "source_hidden": true
    }
   },
   "source": [
    "import statsmodels.api as sm\n",
    "\n",
    "# Encode categorical variables (one-hot encoding)\n",
    "X = pd.get_dummies(df.drop(columns=['target', 'sex']), drop_first=True)\n",
    "y = df['target']\n",
    "\n",
    "# Add constant term for intercept\n",
    "X = sm.add_constant(X)\n",
    "\n",
    "# Fit logistic regression\n",
    "model = sm.Logit(y, X).fit()\n",
    "print(model.summary())\n"
   ]
  },
  {
   "cell_type": "raw",
   "id": "22e65cd6-2bd2-4d97-a20f-b62436d7af72",
   "metadata": {
    "jupyter": {
     "source_hidden": true
    }
   },
   "source": [
    "odds_ratios = pd.DataFrame({\n",
    "    'Variable': model.params.index,\n",
    "    'Odds Ratio': np.exp(model.params.values),\n",
    "    'p-value': model.pvalues.values\n",
    "})\n",
    "display(odds_ratios.sort_values('p-value'))"
   ]
  },
  {
   "cell_type": "markdown",
   "id": "10a19a82-08e9-4acf-b858-0ccccd4f8c2e",
   "metadata": {},
   "source": [
    "**PROMPT: How to discover feature importance regarding \"target\"?**"
   ]
  },
  {
   "cell_type": "code",
   "execution_count": null,
   "id": "4250b07d-ce62-453d-ba88-c648cc2aad90",
   "metadata": {},
   "outputs": [],
   "source": []
  },
  {
   "cell_type": "raw",
   "id": "ed4dad67-e75c-4d60-8952-a6436cf36547",
   "metadata": {
    "jupyter": {
     "source_hidden": true
    }
   },
   "source": [
    "from sklearn.ensemble import RandomForestClassifier\n",
    "from sklearn.model_selection import train_test_split\n",
    "from sklearn.metrics import roc_auc_score\n",
    "\n",
    "# Encode data\n",
    "X = pd.get_dummies(df.drop(columns=['target', 'sex']), drop_first=True)\n",
    "y = df['target']\n",
    "\n",
    "# Split\n",
    "X_train, X_test, y_train, y_test = train_test_split(X, y, test_size=0.3, random_state=42)\n",
    "\n",
    "# Fit Random Forest\n",
    "rf = RandomForestClassifier(random_state=42)\n",
    "rf.fit(X_train, y_train)\n",
    "\n",
    "# Feature importance\n",
    "importances = pd.DataFrame({\n",
    "    'Variable': X.columns,\n",
    "    'Importance': rf.feature_importances_\n",
    "}).sort_values('Importance', ascending=False)\n",
    "\n",
    "display(importances)\n",
    "\n",
    "print(\"AUC:\", roc_auc_score(y_test, rf.predict_proba(X_test)[:, 1]))\n"
   ]
  }
 ],
 "metadata": {
  "kernelspec": {
   "display_name": "Python 3 (ipykernel)",
   "language": "python",
   "name": "python3"
  },
  "language_info": {
   "codemirror_mode": {
    "name": "ipython",
    "version": 3
   },
   "file_extension": ".py",
   "mimetype": "text/x-python",
   "name": "python",
   "nbconvert_exporter": "python",
   "pygments_lexer": "ipython3",
   "version": "3.12.11"
  }
 },
 "nbformat": 4,
 "nbformat_minor": 5
}
